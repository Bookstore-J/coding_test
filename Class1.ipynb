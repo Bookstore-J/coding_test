{
 "cells": [
  {
   "cell_type": "markdown",
   "id": "b068a455-38af-42b2-9f47-ca110166234a",
   "metadata": {},
   "source": [
    "# 2024.07.01"
   ]
  },
  {
   "cell_type": "markdown",
   "id": "d8170d5f-12f2-480c-856f-a9edc4b6b4fb",
   "metadata": {},
   "source": [
    "# 1000번. A+B"
   ]
  },
  {
   "cell_type": "code",
   "execution_count": 2,
   "id": "06e68798-baf1-4a3d-98cc-8b1d5d6e1bbf",
   "metadata": {},
   "outputs": [
    {
     "name": "stdin",
     "output_type": "stream",
     "text": [
      " 1 2\n"
     ]
    },
    {
     "name": "stdout",
     "output_type": "stream",
     "text": [
      "3\n"
     ]
    }
   ],
   "source": [
    "A,B = map(int, input().split())\n",
    "print(A+B)"
   ]
  },
  {
   "cell_type": "markdown",
   "id": "f2b45044-b440-4b8e-8502-9000cf1081fd",
   "metadata": {},
   "source": [
    "# 1001번. A-B"
   ]
  },
  {
   "cell_type": "code",
   "execution_count": 3,
   "id": "5cb5e94f-f9cd-49da-9df0-cf5ce7335238",
   "metadata": {},
   "outputs": [
    {
     "name": "stdin",
     "output_type": "stream",
     "text": [
      " 33 2\n"
     ]
    },
    {
     "name": "stdout",
     "output_type": "stream",
     "text": [
      "31\n"
     ]
    }
   ],
   "source": [
    "A,B = map(int, input().split())\n",
    "print(A-B)"
   ]
  },
  {
   "cell_type": "markdown",
   "id": "51983d37-8015-48c4-9b6d-0f2722a5ebb5",
   "metadata": {},
   "source": [
    "# 1008번. A/B"
   ]
  },
  {
   "cell_type": "code",
   "execution_count": 4,
   "id": "b32c93ef-424e-40a8-9f46-30d1cc9584bd",
   "metadata": {},
   "outputs": [
    {
     "name": "stdin",
     "output_type": "stream",
     "text": [
      " 1 3\n"
     ]
    },
    {
     "name": "stdout",
     "output_type": "stream",
     "text": [
      "0.3333333333333333\n"
     ]
    }
   ],
   "source": [
    "A,B = map(int, input().split())\n",
    "print(A/B)"
   ]
  },
  {
   "cell_type": "markdown",
   "id": "8a920e7b-06f6-4adc-812d-75dfeec92d77",
   "metadata": {},
   "source": [
    "# 1152번. 단어의 개수"
   ]
  },
  {
   "cell_type": "code",
   "execution_count": 6,
   "id": "03acf102-43f8-4cec-aed1-c96fbb7d4469",
   "metadata": {},
   "outputs": [
    {
     "name": "stdin",
     "output_type": "stream",
     "text": [
      "  The Curious Case of Benjamin Button\n"
     ]
    },
    {
     "name": "stdout",
     "output_type": "stream",
     "text": [
      "6\n"
     ]
    }
   ],
   "source": [
    "sentence = input()\n",
    "print(len(sentence.split()))"
   ]
  },
  {
   "cell_type": "markdown",
   "id": "8d64b71d-964c-4030-8520-9050ff1fa0d8",
   "metadata": {},
   "source": [
    "# 1330. 두 수 비교하기"
   ]
  },
  {
   "cell_type": "code",
   "execution_count": 7,
   "id": "407c2444-4f82-46f3-84b9-473fb3724171",
   "metadata": {},
   "outputs": [
    {
     "name": "stdin",
     "output_type": "stream",
     "text": [
      " 1 3\n"
     ]
    },
    {
     "name": "stdout",
     "output_type": "stream",
     "text": [
      "<\n"
     ]
    }
   ],
   "source": [
    "A,B = map(int, input().split())\n",
    "if A>B:\n",
    "    print(\">\")\n",
    "elif A<B: \n",
    "    print(\"<\")\n",
    "else :\n",
    "    print('==')"
   ]
  },
  {
   "cell_type": "markdown",
   "id": "decf66df-25b7-46d1-897a-e8a611147561",
   "metadata": {},
   "source": [
    "# 2438. 별찍기 - 1"
   ]
  },
  {
   "cell_type": "code",
   "execution_count": 10,
   "id": "bdc2bb7c-7990-454f-afee-9cda79105917",
   "metadata": {},
   "outputs": [
    {
     "name": "stdin",
     "output_type": "stream",
     "text": [
      " 5\n"
     ]
    },
    {
     "name": "stdout",
     "output_type": "stream",
     "text": [
      "*\n",
      "**\n",
      "***\n",
      "****\n",
      "*****\n"
     ]
    }
   ],
   "source": [
    "N = int(input())\n",
    "for i in range(N):\n",
    "    print('*'*(i+1))"
   ]
  },
  {
   "cell_type": "markdown",
   "id": "44f6fd86-0c98-4023-b9ec-dcc3cf9afcc7",
   "metadata": {},
   "source": [
    "# 2439. 별 찍기 - 2"
   ]
  },
  {
   "cell_type": "code",
   "execution_count": 11,
   "id": "7c48b2c8-99b5-43c2-b158-a328459fa571",
   "metadata": {},
   "outputs": [
    {
     "name": "stdin",
     "output_type": "stream",
     "text": [
      " 5\n"
     ]
    },
    {
     "name": "stdout",
     "output_type": "stream",
     "text": [
      "    *\n",
      "   **\n",
      "  ***\n",
      " ****\n",
      "*****\n"
     ]
    }
   ],
   "source": [
    "N = int(input())\n",
    "for i in range(N):\n",
    "    print(\" \"*(N-i-1)+'*'*(i+1))"
   ]
  },
  {
   "cell_type": "markdown",
   "id": "081a35b6-d6a8-438c-9e8b-f4c5eb11a933",
   "metadata": {},
   "source": [
    "## 2475. 검증수"
   ]
  },
  {
   "cell_type": "code",
   "execution_count": 22,
   "id": "1cfbfd12-24c4-46a7-b656-237ba7eb0aaf",
   "metadata": {},
   "outputs": [
    {
     "name": "stdin",
     "output_type": "stream",
     "text": [
      " 0 4 2 5 6\n"
     ]
    },
    {
     "name": "stdout",
     "output_type": "stream",
     "text": [
      "1\n"
     ]
    }
   ],
   "source": [
    "val_num = list(map(int, input().split()))\n",
    "print(sum(map(lambda x:x**2, val_num)) % 10)"
   ]
  },
  {
   "cell_type": "markdown",
   "id": "8385a2df-5468-4e53-81c4-043b4a7ff428",
   "metadata": {},
   "source": [
    "## 2557.  Hello World"
   ]
  },
  {
   "cell_type": "code",
   "execution_count": 23,
   "id": "dc2fd035-bb3d-4269-96c4-b1483d98946a",
   "metadata": {},
   "outputs": [
    {
     "name": "stdout",
     "output_type": "stream",
     "text": [
      "Hello World!\n"
     ]
    }
   ],
   "source": [
    "print('Hello World!')"
   ]
  },
  {
   "cell_type": "markdown",
   "id": "4dc0f15e-10d5-40d4-9e54-f03e97057164",
   "metadata": {},
   "source": [
    "## 31403. A+B-C"
   ]
  },
  {
   "cell_type": "code",
   "execution_count": 36,
   "id": "73728bfc-c6a9-4513-8a45-a9d4ccf9bc61",
   "metadata": {},
   "outputs": [
    {
     "name": "stdin",
     "output_type": "stream",
     "text": [
      " 3\n",
      " 4\n",
      " 5\n"
     ]
    },
    {
     "name": "stdout",
     "output_type": "stream",
     "text": [
      "2\n",
      "29\n"
     ]
    }
   ],
   "source": [
    "abc = [input() for i in range(3)]\n",
    "print(list(map(int, abc))[0] + list(map(int, abc))[1] - list(map(int, abc))[2])\n",
    "print(int(abc[0] + abc[1]) - int(abc[2]))"
   ]
  },
  {
   "cell_type": "code",
   "execution_count": 40,
   "id": "3f41a96c-f54c-474e-af1f-ca02c17409df",
   "metadata": {},
   "outputs": [
    {
     "name": "stdin",
     "output_type": "stream",
     "text": [
      " 3\n",
      " 4\n",
      " 5\n"
     ]
    },
    {
     "name": "stdout",
     "output_type": "stream",
     "text": [
      "2\n",
      "29\n"
     ]
    }
   ],
   "source": [
    "A = int(input())\n",
    "B = int(input())\n",
    "C = int(input())\n",
    "print(A+B-C)\n",
    "print(int(str(A)+str(B))-C)"
   ]
  },
  {
   "cell_type": "markdown",
   "id": "e78b21be-500f-4621-8783-e3bece38527b",
   "metadata": {},
   "source": [
    "반복문보다, 각각의 변수를 지정해주는 방법이 보다 직관적이고 효율적일 수도 있다."
   ]
  }
 ],
 "metadata": {
  "kernelspec": {
   "display_name": "Python 3 (ipykernel)",
   "language": "python",
   "name": "python3"
  },
  "language_info": {
   "codemirror_mode": {
    "name": "ipython",
    "version": 3
   },
   "file_extension": ".py",
   "mimetype": "text/x-python",
   "name": "python",
   "nbconvert_exporter": "python",
   "pygments_lexer": "ipython3",
   "version": "3.11.7"
  }
 },
 "nbformat": 4,
 "nbformat_minor": 5
}
