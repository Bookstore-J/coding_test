{
 "cells": [
  {
   "cell_type": "code",
   "execution_count": 1,
   "id": "495d0203",
   "metadata": {},
   "outputs": [],
   "source": [
    "# 1620. 포켓몬스터 마스터 이다솜"
   ]
  },
  {
   "cell_type": "code",
   "execution_count": 39,
   "id": "103a60f7",
   "metadata": {},
   "outputs": [],
   "source": [
    "## 나의 코드"
   ]
  },
  {
   "cell_type": "code",
   "execution_count": 41,
   "id": "c6084808",
   "metadata": {},
   "outputs": [
    {
     "name": "stdout",
     "output_type": "stream",
     "text": [
      "5 2\n",
      "a\n",
      "b\n",
      "c\n",
      "d\n",
      "e\n",
      "1\n",
      "e\n",
      "a\n",
      "5\n"
     ]
    }
   ],
   "source": [
    "n,m = map(int, input().split())\n",
    "\n",
    "poketmon = {}\n",
    "poketmon_reverse = {}\n",
    "out = []\n",
    "\n",
    "for i in range(n+m):\n",
    "    if i <n :\n",
    "        poket = input()\n",
    "        poketmon[i] = poket\n",
    "        poketmon_reverse[poket] = i \n",
    "    else:\n",
    "        out.append(input())\n",
    "\n",
    "for out_ in out:\n",
    "    try:\n",
    "        print(poketmon[int(out_)-1])\n",
    "    except :\n",
    "        print(poketmon_reverse[out_]+1)"
   ]
  },
  {
   "cell_type": "code",
   "execution_count": 42,
   "id": "64ba60c4",
   "metadata": {},
   "outputs": [],
   "source": [
    "# 참고코드"
   ]
  },
  {
   "cell_type": "code",
   "execution_count": null,
   "id": "7da32410",
   "metadata": {},
   "outputs": [],
   "source": [
    "from sys import stdin\n",
    "\n",
    "\n",
    "def input():\n",
    "    return stdin.readline().rstrip()\n",
    "\n",
    "\n",
    "n, m = map(int, input().split())\n",
    "by_id = {}\n",
    "by_name = {}\n",
    "for i in range(1, n + 1):\n",
    "    pokemon = input()\n",
    "    by_id[i] = pokemon\n",
    "    by_name[pokemon] = i  ## 여기까지는 동일해보인다.\n",
    "\n",
    "for _ in range(m):\n",
    "    x = input()\n",
    "    if x.isdigit():  #str.isdigit() -> 숫자로 구성되어있는지 확인, 단, 음수, 소수, 분수는 불가(-./ 등의 문자는 모두 False)\n",
    "        print(by_id[int(x)])\n",
    "    else:\n",
    "        print(by_name[x])"
   ]
  }
 ],
 "metadata": {
  "kernelspec": {
   "display_name": "pytorhc",
   "language": "python",
   "name": "pytorch"
  },
  "language_info": {
   "codemirror_mode": {
    "name": "ipython",
    "version": 3
   },
   "file_extension": ".py",
   "mimetype": "text/x-python",
   "name": "python",
   "nbconvert_exporter": "python",
   "pygments_lexer": "ipython3",
   "version": "3.10.8"
  }
 },
 "nbformat": 4,
 "nbformat_minor": 5
}
