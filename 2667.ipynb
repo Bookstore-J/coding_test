{
 "cells": [
  {
   "cell_type": "code",
   "execution_count": 230,
   "id": "6ba9ff7a-3a80-4746-bcc9-e3aa46104c1d",
   "metadata": {},
   "outputs": [
    {
     "name": "stdin",
     "output_type": "stream",
     "text": [
      " 7\n",
      " 0110100\n",
      " 0110101\n",
      " 1110101\n",
      " 0000111\n",
      " 0100000\n",
      " 0111110\n",
      " 0111000\n"
     ]
    }
   ],
   "source": [
    "n = int(input())\n",
    "\n",
    "graph = []\n",
    "for i in range(n):\n",
    "    graph.append(list(input()))"
   ]
  },
  {
   "cell_type": "code",
   "execution_count": 172,
   "id": "586dde69-b8c5-405a-b294-cbd163f4e9a0",
   "metadata": {},
   "outputs": [
    {
     "data": {
      "text/plain": [
       "[['0', '1', '1', '0', '1', '0', '0'],\n",
       " ['0', '1', '1', '0', '1', '0', '1'],\n",
       " ['1', '1', '1', '0', '1', '0', '1'],\n",
       " ['0', '0', '0', '0', '1', '1', '1'],\n",
       " ['0', '1', '0', '0', '0', '0', '0'],\n",
       " ['0', '1', '1', '1', '1', '1', '0'],\n",
       " ['0', '1', '1', '1', '0', '0', '0']]"
      ]
     },
     "execution_count": 172,
     "metadata": {},
     "output_type": "execute_result"
    }
   ],
   "source": [
    "graph"
   ]
  },
  {
   "cell_type": "code",
   "execution_count": 114,
   "id": "9e6ac89e-8397-4dee-b5eb-59c698c3f3fd",
   "metadata": {},
   "outputs": [],
   "source": [
    "from collections import deque\n",
    "\n",
    "def bfs(i,j):\n",
    "    queue = deque([i,j])\n",
    "\n",
    "    dx = [1,-1,0,0]\n",
    "    dy = [0,0,1,-1]\n",
    "        \n",
    "    while queue:\n",
    "        print(queue)\n",
    "        x,y = queue.popleft()\n",
    "\n",
    "        for _ in range(4):\n",
    "            nx = x + dx[_]\n",
    "            ny = y + dy[_]\n",
    "\n",
    "            if graph[nx][ny] == '1' and 0<=nx<n and 0<=ny<n:\n",
    "                graph[nx][ny] = '0'\n",
    "                queue.append([nx,ny])\n",
    "                \n",
    "        "
   ]
  },
  {
   "cell_type": "code",
   "execution_count": 136,
   "id": "5f61b11c-972e-4aa9-bdb6-0133e538808a",
   "metadata": {
    "scrolled": true
   },
   "outputs": [
    {
     "name": "stdout",
     "output_type": "stream",
     "text": [
      "1\n",
      "deque([0, 1])\n"
     ]
    },
    {
     "ename": "TypeError",
     "evalue": "cannot unpack non-iterable int object",
     "output_type": "error",
     "traceback": [
      "\u001b[1;31m---------------------------------------------------------------------------\u001b[0m",
      "\u001b[1;31mTypeError\u001b[0m                                 Traceback (most recent call last)",
      "Cell \u001b[1;32mIn[136], line 6\u001b[0m\n\u001b[0;32m      4\u001b[0m \u001b[38;5;28;01mif\u001b[39;00m graph[i][j] \u001b[38;5;241m==\u001b[39m \u001b[38;5;124m'\u001b[39m\u001b[38;5;124m1\u001b[39m\u001b[38;5;124m'\u001b[39m:\n\u001b[0;32m      5\u001b[0m     \u001b[38;5;28mprint\u001b[39m(\u001b[38;5;124m'\u001b[39m\u001b[38;5;124m1\u001b[39m\u001b[38;5;124m'\u001b[39m)\n\u001b[1;32m----> 6\u001b[0m     bfs(i,j)\n\u001b[0;32m      7\u001b[0m     cnt \u001b[38;5;241m+\u001b[39m\u001b[38;5;241m=\u001b[39m \u001b[38;5;241m1\u001b[39m\n",
      "Cell \u001b[1;32mIn[114], line 11\u001b[0m, in \u001b[0;36mbfs\u001b[1;34m(i, j)\u001b[0m\n\u001b[0;32m      9\u001b[0m \u001b[38;5;28;01mwhile\u001b[39;00m queue:\n\u001b[0;32m     10\u001b[0m     \u001b[38;5;28mprint\u001b[39m(queue)\n\u001b[1;32m---> 11\u001b[0m     x,y \u001b[38;5;241m=\u001b[39m queue\u001b[38;5;241m.\u001b[39mpopleft()\n\u001b[0;32m     14\u001b[0m     \u001b[38;5;28;01mfor\u001b[39;00m _ \u001b[38;5;129;01min\u001b[39;00m \u001b[38;5;28mrange\u001b[39m(\u001b[38;5;241m4\u001b[39m):\n\u001b[0;32m     15\u001b[0m         nx \u001b[38;5;241m=\u001b[39m x \u001b[38;5;241m+\u001b[39m dx[_]\n",
      "\u001b[1;31mTypeError\u001b[0m: cannot unpack non-iterable int object"
     ]
    }
   ],
   "source": [
    "cnt = 0\n",
    "for i in range(n):\n",
    "    for j in range(n):\n",
    "        if graph[i][j] == '1':\n",
    "            print('1')\n",
    "            bfs(i,j)\n",
    "            cnt += 1"
   ]
  },
  {
   "cell_type": "code",
   "execution_count": 270,
   "id": "dc3cc3c0-b095-4fc0-9b54-d3e9c0033071",
   "metadata": {},
   "outputs": [],
   "source": [
    "# TypeError: cannot unpack non-iterable int object\n",
    "## deque([]) deque()생성 시 iterable oject 자동 생성\n",
    "## x,y 등과 같이 한번에 여러 변수를 호출하고 싶을 경우에는, tuple, list등 사용해서 deque()에 넣어야함.\n",
    "### ex) deque([(1,2)]) => popleft() => (1,2)\n",
    "### ex) deque([1,2,]) => popleft() => 1"
   ]
  },
  {
   "cell_type": "code",
   "execution_count": 240,
   "id": "89cdff6c-e810-40d5-8f20-f8b61818fe13",
   "metadata": {},
   "outputs": [
    {
     "name": "stdin",
     "output_type": "stream",
     "text": [
      " 7\n",
      " 0110100\n",
      " 0110101\n",
      " 1110101\n",
      " 0000111\n",
      " 0100000\n",
      " 0111110\n",
      " 0111000\n"
     ]
    },
    {
     "name": "stdout",
     "output_type": "stream",
     "text": [
      "3\n",
      "7\n",
      "8\n",
      "9\n"
     ]
    }
   ],
   "source": [
    "n = int(input())\n",
    "\n",
    "graph = []\n",
    "for i in range(n):\n",
    "    graph.append(list(input()))\n",
    "\n",
    "from collections import deque\n",
    "\n",
    "def bfs(i,j):\n",
    "    queue = deque([])\n",
    "    queue.append((i,j))\n",
    "    graph[i][j] = 0\n",
    "    cnt = 1\n",
    "\n",
    "    dx = [1,-1,0,0]\n",
    "    dy = [0,0,1,-1]\n",
    "\n",
    "    \n",
    "    while queue:\n",
    "        x,y = queue.popleft()\n",
    "\n",
    "        for _ in range(4):\n",
    "            nx = x + dx[_]\n",
    "            ny = y + dy[_]\n",
    "            ### 왼쪽에서 오른쪽으로 호출하기 때문에 ==1 의 조건이 먼저 오면, index오류 발생\n",
    "            if (0<=nx<n) and (0<=ny<n) and graph[nx][ny] == '1'  :\n",
    "                graph[nx][ny] = '0'\n",
    "                queue.append((nx,ny))\n",
    "                cnt += 1\n",
    "    return cnt\n",
    "    \n",
    "\n",
    "cnt_list  = []\n",
    "for i in range(n):\n",
    "    for j in range(n):\n",
    "        if graph[i][j] == '1':\n",
    "            cnt_list.append(bfs(i,j))\n",
    "cnt_list.sort()\n",
    "print(len(cnt_list))\n",
    "for i in cnt_list:\n",
    "    print(i)"
   ]
  },
  {
   "cell_type": "code",
   "execution_count": null,
   "id": "c76df3f6-b7a6-423f-9a08-86d34f383819",
   "metadata": {},
   "outputs": [],
   "source": []
  }
 ],
 "metadata": {
  "kernelspec": {
   "display_name": "Python 3 (ipykernel)",
   "language": "python",
   "name": "python3"
  },
  "language_info": {
   "codemirror_mode": {
    "name": "ipython",
    "version": 3
   },
   "file_extension": ".py",
   "mimetype": "text/x-python",
   "name": "python",
   "nbconvert_exporter": "python",
   "pygments_lexer": "ipython3",
   "version": "3.11.7"
  }
 },
 "nbformat": 4,
 "nbformat_minor": 5
}
