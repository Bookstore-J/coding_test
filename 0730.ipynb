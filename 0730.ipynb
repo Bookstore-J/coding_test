{
 "cells": [
  {
   "cell_type": "code",
   "execution_count": null,
   "id": "baac5433",
   "metadata": {},
   "outputs": [],
   "source": []
  },
  {
   "cell_type": "code",
   "execution_count": 86,
   "id": "e972197d",
   "metadata": {
    "scrolled": true
   },
   "outputs": [
    {
     "name": "stdout",
     "output_type": "stream",
     "text": [
      "9\n",
      "7 3\n",
      "7\n",
      "1 2\n",
      "1 3\n",
      "2 7\n",
      "2 8\n",
      "2 9\n",
      "4 5\n",
      "4 6\n"
     ]
    }
   ],
   "source": [
    "n = int(input())\n",
    "a,b = map(int, input().split())\n",
    "m = int(input())\n",
    "\n",
    "graph = [[] for i in range(n+1)]\n",
    "visited = [False for i in range(n+1)]\n",
    "result = []\n",
    "\n",
    "for _ in range(m):\n",
    "    x,y = map(int, input().split())\n",
    "    graph[x].append(y)\n",
    "    graph[y].append(x)\n",
    "\n",
    "def dfs(v, num):\n",
    "    num += 1\n",
    "    visited[v] = True\n",
    "\n",
    "    if v == b:\n",
    "        result.append(num)\n",
    "\n",
    "    for i in graph[v]:\n",
    "        if not visited[i]:\n",
    "            dfs(i, num)\n",
    "\n",
    "\n",
    "dfs(a, 0)\n",
    "if len(result) == 0:\n",
    "    print(-1)\n",
    "else:\n",
    "    print(result[0]-1)"
   ]
  },
  {
   "cell_type": "code",
   "execution_count": 200,
   "id": "73a1502a",
   "metadata": {
    "scrolled": true
   },
   "outputs": [
    {
     "name": "stdout",
     "output_type": "stream",
     "text": [
      "10 1 10 2 1\n",
      "6\n"
     ]
    }
   ],
   "source": [
    "F, S, G, U, D = map(int, input().split())\n",
    "\n",
    "visited = [0] * (F+1)\n",
    "\n",
    "from collections import deque\n",
    "\n",
    "def bfs(S):\n",
    "    queue = deque([])\n",
    "    queue.append(S)\n",
    "    \n",
    "    visited[S] = 1\n",
    "    \n",
    "    while queue:\n",
    "        x = queue.popleft()\n",
    "        \n",
    "        if x == G:\n",
    "            return visited[x]- 1\n",
    "        else :\n",
    "            for i in [x+U, x-D]:\n",
    "                if (0<i<=F) and visited[i] == 0 :\n",
    "                    visited[i] = visited[x] + 1 \n",
    "                    queue.append(i)\n",
    "        \n",
    "    return \"use the stairs\"\n",
    "    \n",
    "        \n",
    "print(bfs(S))"
   ]
  },
  {
   "cell_type": "code",
   "execution_count": 161,
   "id": "c8e75683",
   "metadata": {},
   "outputs": [
    {
     "name": "stdout",
     "output_type": "stream",
     "text": [
      "i: 3\n",
      "i: 0\n",
      "cnt: 0\n",
      "i: 5\n",
      "i: 2\n",
      "cnt: 1\n",
      "i: 7\n",
      "i: 4\n",
      "cnt: 2\n",
      "i: 4\n",
      "i: 1\n",
      "cnt: 3\n",
      "i: 9\n",
      "i: 6\n",
      "cnt: 4\n",
      "i: 6\n",
      "i: 3\n",
      "cnt: 5\n",
      "i: 11\n",
      "i: 8\n",
      "cnt: 6\n",
      "i: 8\n",
      "i: 5\n",
      "cnt: 7\n",
      "i: 13\n",
      "i: 10\n"
     ]
    },
    {
     "data": {
      "text/plain": [
       "8"
      ]
     },
     "execution_count": 161,
     "metadata": {},
     "output_type": "execute_result"
    }
   ],
   "source": []
  },
  {
   "cell_type": "code",
   "execution_count": 190,
   "id": "3f8952e0",
   "metadata": {},
   "outputs": [],
   "source": [
    "visited = [0] * 100000"
   ]
  },
  {
   "cell_type": "code",
   "execution_count": 191,
   "id": "f40cef2a",
   "metadata": {},
   "outputs": [],
   "source": [
    "result  = []"
   ]
  },
  {
   "cell_type": "code",
   "execution_count": 192,
   "id": "e9ec9066",
   "metadata": {},
   "outputs": [],
   "source": [
    "def dfs(S, num):\n",
    "    num += 1\n",
    "    visited[S] = 1\n",
    "    \n",
    "    for i in [S+2, S-1]:\n",
    "        if not visited[i] and i>0:\n",
    "            dfs(i, num)\n",
    "            if i == G:\n",
    "                result.append(num)\n",
    "                break"
   ]
  },
  {
   "cell_type": "code",
   "execution_count": 193,
   "id": "e7727895",
   "metadata": {},
   "outputs": [
    {
     "ename": "RecursionError",
     "evalue": "maximum recursion depth exceeded in comparison",
     "output_type": "error",
     "traceback": [
      "\u001b[0;31m---------------------------------------------------------------------------\u001b[0m",
      "\u001b[0;31mRecursionError\u001b[0m                            Traceback (most recent call last)",
      "Cell \u001b[0;32mIn [193], line 1\u001b[0m\n\u001b[0;32m----> 1\u001b[0m \u001b[43mdfs\u001b[49m\u001b[43m(\u001b[49m\u001b[43mS\u001b[49m\u001b[43m,\u001b[49m\u001b[43m \u001b[49m\u001b[38;5;241;43m0\u001b[39;49m\u001b[43m)\u001b[49m\n",
      "Cell \u001b[0;32mIn [192], line 7\u001b[0m, in \u001b[0;36mdfs\u001b[0;34m(S, num)\u001b[0m\n\u001b[1;32m      5\u001b[0m \u001b[38;5;28;01mfor\u001b[39;00m i \u001b[38;5;129;01min\u001b[39;00m [S\u001b[38;5;241m+\u001b[39m\u001b[38;5;241m2\u001b[39m, S\u001b[38;5;241m-\u001b[39m\u001b[38;5;241m1\u001b[39m]:\n\u001b[1;32m      6\u001b[0m     \u001b[38;5;28;01mif\u001b[39;00m \u001b[38;5;129;01mnot\u001b[39;00m visited[i] \u001b[38;5;129;01mand\u001b[39;00m i\u001b[38;5;241m>\u001b[39m\u001b[38;5;241m0\u001b[39m:\n\u001b[0;32m----> 7\u001b[0m         \u001b[43mdfs\u001b[49m\u001b[43m(\u001b[49m\u001b[43mi\u001b[49m\u001b[43m,\u001b[49m\u001b[43m \u001b[49m\u001b[43mnum\u001b[49m\u001b[43m)\u001b[49m\n\u001b[1;32m      8\u001b[0m         \u001b[38;5;28;01mif\u001b[39;00m i \u001b[38;5;241m==\u001b[39m G:\n\u001b[1;32m      9\u001b[0m             result\u001b[38;5;241m.\u001b[39mappend(num)\n",
      "Cell \u001b[0;32mIn [192], line 7\u001b[0m, in \u001b[0;36mdfs\u001b[0;34m(S, num)\u001b[0m\n\u001b[1;32m      5\u001b[0m \u001b[38;5;28;01mfor\u001b[39;00m i \u001b[38;5;129;01min\u001b[39;00m [S\u001b[38;5;241m+\u001b[39m\u001b[38;5;241m2\u001b[39m, S\u001b[38;5;241m-\u001b[39m\u001b[38;5;241m1\u001b[39m]:\n\u001b[1;32m      6\u001b[0m     \u001b[38;5;28;01mif\u001b[39;00m \u001b[38;5;129;01mnot\u001b[39;00m visited[i] \u001b[38;5;129;01mand\u001b[39;00m i\u001b[38;5;241m>\u001b[39m\u001b[38;5;241m0\u001b[39m:\n\u001b[0;32m----> 7\u001b[0m         \u001b[43mdfs\u001b[49m\u001b[43m(\u001b[49m\u001b[43mi\u001b[49m\u001b[43m,\u001b[49m\u001b[43m \u001b[49m\u001b[43mnum\u001b[49m\u001b[43m)\u001b[49m\n\u001b[1;32m      8\u001b[0m         \u001b[38;5;28;01mif\u001b[39;00m i \u001b[38;5;241m==\u001b[39m G:\n\u001b[1;32m      9\u001b[0m             result\u001b[38;5;241m.\u001b[39mappend(num)\n",
      "    \u001b[0;31m[... skipping similar frames: dfs at line 7 (2969 times)]\u001b[0m\n",
      "Cell \u001b[0;32mIn [192], line 7\u001b[0m, in \u001b[0;36mdfs\u001b[0;34m(S, num)\u001b[0m\n\u001b[1;32m      5\u001b[0m \u001b[38;5;28;01mfor\u001b[39;00m i \u001b[38;5;129;01min\u001b[39;00m [S\u001b[38;5;241m+\u001b[39m\u001b[38;5;241m2\u001b[39m, S\u001b[38;5;241m-\u001b[39m\u001b[38;5;241m1\u001b[39m]:\n\u001b[1;32m      6\u001b[0m     \u001b[38;5;28;01mif\u001b[39;00m \u001b[38;5;129;01mnot\u001b[39;00m visited[i] \u001b[38;5;129;01mand\u001b[39;00m i\u001b[38;5;241m>\u001b[39m\u001b[38;5;241m0\u001b[39m:\n\u001b[0;32m----> 7\u001b[0m         \u001b[43mdfs\u001b[49m\u001b[43m(\u001b[49m\u001b[43mi\u001b[49m\u001b[43m,\u001b[49m\u001b[43m \u001b[49m\u001b[43mnum\u001b[49m\u001b[43m)\u001b[49m\n\u001b[1;32m      8\u001b[0m         \u001b[38;5;28;01mif\u001b[39;00m i \u001b[38;5;241m==\u001b[39m G:\n\u001b[1;32m      9\u001b[0m             result\u001b[38;5;241m.\u001b[39mappend(num)\n",
      "Cell \u001b[0;32mIn [192], line 6\u001b[0m, in \u001b[0;36mdfs\u001b[0;34m(S, num)\u001b[0m\n\u001b[1;32m      3\u001b[0m visited[S] \u001b[38;5;241m=\u001b[39m \u001b[38;5;241m1\u001b[39m\n\u001b[1;32m      5\u001b[0m \u001b[38;5;28;01mfor\u001b[39;00m i \u001b[38;5;129;01min\u001b[39;00m [S\u001b[38;5;241m+\u001b[39m\u001b[38;5;241m2\u001b[39m, S\u001b[38;5;241m-\u001b[39m\u001b[38;5;241m1\u001b[39m]:\n\u001b[0;32m----> 6\u001b[0m     \u001b[38;5;28;01mif\u001b[39;00m \u001b[38;5;129;01mnot\u001b[39;00m visited[i] \u001b[38;5;129;01mand\u001b[39;00m \u001b[43mi\u001b[49m\u001b[38;5;241;43m>\u001b[39;49m\u001b[38;5;241;43m0\u001b[39;49m:\n\u001b[1;32m      7\u001b[0m         dfs(i, num)\n\u001b[1;32m      8\u001b[0m         \u001b[38;5;28;01mif\u001b[39;00m i \u001b[38;5;241m==\u001b[39m G:\n",
      "\u001b[0;31mRecursionError\u001b[0m: maximum recursion depth exceeded in comparison"
     ]
    }
   ],
   "source": [
    "dfs(S, 0)"
   ]
  },
  {
   "cell_type": "code",
   "execution_count": 194,
   "id": "1faf18a0",
   "metadata": {},
   "outputs": [
    {
     "data": {
      "text/plain": [
       "[]"
      ]
     },
     "execution_count": 194,
     "metadata": {},
     "output_type": "execute_result"
    }
   ],
   "source": [
    "result"
   ]
  },
  {
   "cell_type": "code",
   "execution_count": 195,
   "id": "8a396edd",
   "metadata": {},
   "outputs": [
    {
     "data": {
      "text/plain": [
       "10"
      ]
     },
     "execution_count": 195,
     "metadata": {},
     "output_type": "execute_result"
    }
   ],
   "source": [
    "G"
   ]
  },
  {
   "cell_type": "code",
   "execution_count": null,
   "id": "8f687787",
   "metadata": {},
   "outputs": [],
   "source": []
  }
 ],
 "metadata": {
  "kernelspec": {
   "display_name": "pytorhc",
   "language": "python",
   "name": "pytorch"
  },
  "language_info": {
   "codemirror_mode": {
    "name": "ipython",
    "version": 3
   },
   "file_extension": ".py",
   "mimetype": "text/x-python",
   "name": "python",
   "nbconvert_exporter": "python",
   "pygments_lexer": "ipython3",
   "version": "3.10.8"
  }
 },
 "nbformat": 4,
 "nbformat_minor": 5
}
