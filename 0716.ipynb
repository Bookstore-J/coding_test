{
 "cells": [
  {
   "cell_type": "markdown",
   "id": "a6ed88b2-1094-473d-9340-a1173b93adf5",
   "metadata": {},
   "source": [
    "# 1074. Z"
   ]
  },
  {
   "cell_type": "code",
   "execution_count": 12,
   "id": "1fe29a4e-9cd3-4a91-81cd-c22758f9de89",
   "metadata": {},
   "outputs": [],
   "source": [
    "# 분할정복과 재귀로 풀 수 있다. \n",
    "## 복습 반듯이 .."
   ]
  },
  {
   "cell_type": "code",
   "execution_count": 10,
   "id": "d8ce730c-fd20-4845-93be-1714ec5dc6de",
   "metadata": {},
   "outputs": [
    {
     "name": "stdout",
     "output_type": "stream",
     "text": [
      "11\n"
     ]
    }
   ],
   "source": [
    "# 분할정복\n",
    "\n",
    "n,r,c = map(int,input().split())\n",
    "ans = 0 \n",
    "\n",
    "while n != 0:\n",
    "    # 영역별 (0,0) 값을 구하기 때문에 n에서 1을 빼준다\n",
    "    n -= 1\n",
    "    # 제2사분면\n",
    "    if r < 2 ** n and c < 2 **n :\n",
    "        ans += (2 ** n) * (2 ** n) * 0\n",
    "    # 제1사분면\n",
    "    elif r < 2 ** n and c > 2 ** n:\n",
    "        ans += (2 ** n) * (2 ** n) * 1\n",
    "        c -= (2 ** n)\n",
    "    # 제3사분면\n",
    "    elif r > 2 ** n and c < 2 ** n:\n",
    "        ans += (2 ** n) * (2 ** n) * 2\n",
    "        r -= (2 ** n)\n",
    "    # 제4사분면\n",
    "    else : \n",
    "        ans += (2 ** n) * (2 ** n) * 3\n",
    "        r -= ( 2 ** n)\n",
    "        c -= ( 2 ** n)\n",
    "\n",
    "print(ans)"
   ]
  },
  {
   "cell_type": "code",
   "execution_count": 14,
   "id": "6c2767c4-b0a0-4451-9a25-c69e61020a3e",
   "metadata": {},
   "outputs": [],
   "source": [
    "# 재귀함수"
   ]
  },
  {
   "cell_type": "code",
   "execution_count": 20,
   "id": "3c45f714-8bbf-486e-9046-6f0bc7c4a1d4",
   "metadata": {},
   "outputs": [
    {
     "name": "stdin",
     "output_type": "stream",
     "text": [
      " 3 7 7\n"
     ]
    },
    {
     "name": "stdout",
     "output_type": "stream",
     "text": [
      "63\n"
     ]
    }
   ],
   "source": [
    "n,r,c = map(int,input().split())\n",
    "\n",
    "def sol(n,r,c):\n",
    "    if n == 0:\n",
    "        return 0 \n",
    "\n",
    "    return 2 * (r%2) + (c%2) + 4*sol(n-1, int(r/2), int(c/2))\n",
    "\n",
    "print(sol(n,r,c))"
   ]
  },
  {
   "cell_type": "code",
   "execution_count": 24,
   "id": "ada3c422-524b-4200-8e62-069754d1fdd6",
   "metadata": {},
   "outputs": [],
   "source": [
    "# 1764. 듣보잡"
   ]
  },
  {
   "cell_type": "code",
   "execution_count": null,
   "id": "063f91b8-3b0c-4626-be4b-111657b36b84",
   "metadata": {},
   "outputs": [],
   "source": [
    "n,m = map(int, input().split())\n",
    "a, b = set(), set()\n",
    "\n",
    "for i in range(n):\n",
    "    a.add(input())\n",
    "for i in range(m):\n",
    "    b.add(input())\n",
    "\n",
    "print(len(a.intersection(b)))\n",
    "for name in sorted(list(a.intersection(b))):\n",
    "    print(name)"
   ]
  },
  {
   "cell_type": "code",
   "execution_count": 100,
   "id": "d99a9666-cd3c-4fbe-83b7-86e9010b4dfe",
   "metadata": {},
   "outputs": [],
   "source": [
    "# 1707. 이분그래프\n",
    "\n",
    "## 인접한 정점끼리 서로 다른 색으로 칠해서 모든 정점을 두 가지 색으로만 칠할 수 있는 그래프.\n"
   ]
  },
  {
   "cell_type": "code",
   "execution_count": null,
   "id": "9e2cdd91-9631-4cac-8287-1d0207494785",
   "metadata": {},
   "outputs": [],
   "source": [
    "import sys\n",
    "sys.setrecursionlimit(10**6)\n",
    "k = int(input())\n",
    "\n",
    "def DFS(start, visited, graph, group):\n",
    "    visited[start] = group\n",
    "\n",
    "    for v in graph[start]:\n",
    "        if visited[v] == 0:\n",
    "            result = DFS(v, visited, graph, -group)\n",
    "            if not result:\n",
    "                return False\n",
    "        else:\n",
    "            if visited[v] == group:\n",
    "                return False\n",
    "    return True\n",
    "\n",
    "for _ in range(k):\n",
    "    v,e = map(int, sys.stdin.readline().split())\n",
    "    graph = [[] for _ in range(v+1)]\n",
    "    visited = [0] * (v+1)\n",
    "    for _ in range(e):\n",
    "        a,b = map(int, sys.stdin.readline().split())\n",
    "        graph[a].append(b)\n",
    "        graph[b].append(a)\n",
    "\n",
    "    for i in range(1, v+1):\n",
    "        if visited[i] == 0:\n",
    "            result = (DFS(i, visited, graphk, 1))\n",
    "            if not result:\n",
    "                break\n",
    "    print(\"YES\") if result else print('NO')"
   ]
  }
 ],
 "metadata": {
  "kernelspec": {
   "display_name": "study",
   "language": "python",
   "name": "study"
  },
  "language_info": {
   "codemirror_mode": {
    "name": "ipython",
    "version": 3
   },
   "file_extension": ".py",
   "mimetype": "text/x-python",
   "name": "python",
   "nbconvert_exporter": "python",
   "pygments_lexer": "ipython3",
   "version": "3.12.4"
  }
 },
 "nbformat": 4,
 "nbformat_minor": 5
}
