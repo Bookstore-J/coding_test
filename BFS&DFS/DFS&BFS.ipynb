{
 "cells": [
  {
   "cell_type": "markdown",
   "id": "efe4fe7f-b520-4afa-86e4-2d9db2096ed4",
   "metadata": {},
   "source": [
    "# DFS & BFS"
   ]
  },
  {
   "cell_type": "markdown",
   "id": "bd1e477c-894b-4581-8995-e649891976a5",
   "metadata": {},
   "source": [
    "## 탐색이란\n",
    "많은 양의 데이터 중에서 원하는 데이터를 찾는 과정을 의미.\n",
    "## 자료구조란\n",
    "데이터를 표현하고 관리하고 처리하기 위한 구조 \n",
    "* 스택: 박스 쌓기에 비유(선입후출), list\n",
    "* 큐: 대기 줄에 비유(선입선출), queue   \n",
    "    from collection import deque # 큐 구현을 위해 deque 라이브러리 사용"
   ]
  },
  {
   "cell_type": "code",
   "execution_count": 10,
   "id": "42287408-7d5c-4e7e-9b2c-8b81cbb6f55d",
   "metadata": {},
   "outputs": [
    {
     "name": "stdout",
     "output_type": "stream",
     "text": [
      "[[0, 7, 5], [7, 0, 9999999], [5, 9999999, 0]]\n",
      "[[(1, 7), (2, 5)], [(0, 7)], [(0, 5)]]\n"
     ]
    }
   ],
   "source": [
    "# 그래프 표현 방식: 인접 행렬, 인접 리스트\n",
    "## 인접 행렬\n",
    "INF = 9999999\n",
    "\n",
    "graph = [\n",
    "    [0,7,5],\n",
    "    [7,0,INF],\n",
    "    [5,INF,0]\n",
    "]\n",
    "\n",
    "print(graph)\n",
    "\n",
    "## 인접 리스트\n",
    "graph = [[] for _ in range(3)]\n",
    "\n",
    "graph[0].append((1,7)) #(노드,거리)\n",
    "graph[0].append((2,5))\n",
    "\n",
    "graph[1].append((0,7))\n",
    "\n",
    "graph[2].append((0,5))\n",
    "\n",
    "print(graph)"
   ]
  },
  {
   "cell_type": "markdown",
   "id": "53882872-8712-41f6-b61f-c80ded770be9",
   "metadata": {},
   "source": [
    "## DFS(Depth-First Search, 깊이 우선 탐색)\n",
    "\n",
    "DFS는 특정한 경로로 탐색하다가 특정한 상황에서 최대한 깊숙이 들어가서 노드를 방문한 후, 다시 돌아가 다른 경로로 탐색한다.\n",
    "\n",
    "* 동작 과정\n",
    "  1. 탐색 시작 노드를 스택에 삽입하고 방문 처리를 한다.\n",
    "  2. 스택의 최상단 노드에 방문하지 않은 인접 노드가 있으면 그 인접 노드를 스택에 넣고 방문 처리를 한다.    \n",
    "     방문하지 않은 인접 노드가 없으면 스택에서 최상단 노드를 꺼낸다.\n",
    "  3. 2번의 과정을 더 이상 수행할 수 없을 때까지 반복한다."
   ]
  },
  {
   "cell_type": "code",
   "execution_count": 9,
   "id": "c915e866-8480-47de-9992-5ade3b2c9400",
   "metadata": {},
   "outputs": [
    {
     "name": "stdout",
     "output_type": "stream",
     "text": [
      "1 2 7 6 8 3 4 5 "
     ]
    }
   ],
   "source": [
    "# DFS 구현 코드\n",
    "def dfs(graph, v, visited):\n",
    "    visited[v] = True # 현재 노드를 방문 처리\n",
    "    print(v, end=' ')\n",
    "\n",
    "    for i in graph[v]:\n",
    "        if not visited[i]:\n",
    "            dfs(graph, i, visited)\n",
    "graph = [\n",
    "    [],\n",
    "    [2,3,8],\n",
    "    [1,7],\n",
    "    [1,4,5],\n",
    "    [3,5],\n",
    "    [3,4],\n",
    "    [7],\n",
    "    [2,6,8],\n",
    "    [1,7]\n",
    "]\n",
    "\n",
    "visited = [False] * 9\n",
    "\n",
    "dfs(graph, 1, visited)"
   ]
  },
  {
   "cell_type": "markdown",
   "id": "6d1e9f52-90e1-4931-85fb-629e4223ed5c",
   "metadata": {},
   "source": [
    "## BFS(Breadth-First Search, 너비 우선 탐색)\n",
    "\n",
    "BFS는 쉽게 말해 가까운 노드부터 탐색하는 알고리즘이다.   \n",
    "DFS는 최대한 멀리 있는 노드를 우선으로 탐색하는 방식으로 동작한다.    \n",
    "BFS 큐 자료구조를 이용하여, 인접한 노드를 반복적으로 큐에 넣어 자연스럽게 먼저 들어온 것이 먼저 나가게된다.   \n",
    "일반적인 경우 실제 수행 시간은 DFS보다 좋은 편이다.O(N)\n",
    "\n",
    "* 동작 방식\n",
    "  1. 탐색 시작 노드를 큐에 삽입하고 방문 처리를 한다.\n",
    "  2. 큐에서 노드를 꺼내 해당 노드의 인접 노드 중에서 방문하지 않은 노드를 모두 큐에 삽입하고 방문 처리를 한다.\n",
    "  3. 2번의 고정을 더 이상 수행할 수 없을 때까지 반복한다."
   ]
  },
  {
   "cell_type": "code",
   "execution_count": 12,
   "id": "8dd4e64e-7afe-49c3-b5a8-abc4796b28a5",
   "metadata": {},
   "outputs": [
    {
     "name": "stdout",
     "output_type": "stream",
     "text": [
      "1 2 3 8 7 4 5 6 "
     ]
    }
   ],
   "source": [
    "# BFS 구현 코드\n",
    "from collections import deque\n",
    "\n",
    "def bfs(graph, start, visited):\n",
    "    queue = deque([start])\n",
    "    visited[start] = True\n",
    "    while queue:\n",
    "        v = queue.popleft()\n",
    "        print(v, end=' ')\n",
    "        for i in graph[v]:\n",
    "            if not visited[i]:\n",
    "                queue.append(i)\n",
    "                visited[i] = True\n",
    "\n",
    "graph = [\n",
    "    [],\n",
    "    [2,3,8],\n",
    "    [1,7],\n",
    "    [1,4,5],\n",
    "    [3,5],\n",
    "    [3,4],\n",
    "    [7],\n",
    "    [2,6,8],\n",
    "    [1,7]\n",
    "]\n",
    "\n",
    "visited = [False] * 9\n",
    "\n",
    "bfs(graph, 1, visited)"
   ]
  },
  {
   "cell_type": "markdown",
   "id": "0e97eed6-ff5c-4a13-9155-cb1e5f44768a",
   "metadata": {},
   "source": [
    "## 깊이 우선 탐색(DFS)과 너비 우선 탐색(BFS) 활용한 문제 유형/응용\n",
    "\n",
    "* 1) 그래프의 모든 정점을 방문하는 것이 주요한 문제 -> DFS/BFS \n",
    "  2) 경로의 특징을 저장해둬야 하는 문제 -> DFS(BFS는 경로의 특징을 가지지 못함)\n",
    "  3) 최단거리를 구해야 하는 문제 -> BFS(현재 노드에서 가까운 곳부터 찾기 때문에 경로를 탐색 시 먼저 찾아지는 해답이 곧 최단거리)"
   ]
  },
  {
   "cell_type": "markdown",
   "id": "22f62682-ed34-45fb-8bbf-51a4d04fbff7",
   "metadata": {},
   "source": [
    "**참고자료** \n",
    "> 이것이 취업을 위한 코딩테스트다.   \n",
    "> https://devuna.tistory.com/32"
   ]
  },
  {
   "cell_type": "code",
   "execution_count": null,
   "id": "f3c2d2f9-0461-4339-8189-fcd9583bcea5",
   "metadata": {},
   "outputs": [],
   "source": []
  }
 ],
 "metadata": {
  "kernelspec": {
   "display_name": "Python 3 (ipykernel)",
   "language": "python",
   "name": "python3"
  },
  "language_info": {
   "codemirror_mode": {
    "name": "ipython",
    "version": 3
   },
   "file_extension": ".py",
   "mimetype": "text/x-python",
   "name": "python",
   "nbconvert_exporter": "python",
   "pygments_lexer": "ipython3",
   "version": "3.11.7"
  }
 },
 "nbformat": 4,
 "nbformat_minor": 5
}
