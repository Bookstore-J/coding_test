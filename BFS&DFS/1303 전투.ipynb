{
 "cells": [
  {
   "cell_type": "code",
   "execution_count": 1,
   "id": "2b60d415",
   "metadata": {},
   "outputs": [],
   "source": [
    "# 1303 전투"
   ]
  },
  {
   "cell_type": "code",
   "execution_count": 3,
   "id": "4a673d9c",
   "metadata": {},
   "outputs": [
    {
     "name": "stdout",
     "output_type": "stream",
     "text": [
      "5 5\n"
     ]
    }
   ],
   "source": [
    "n,m = map(int, input().split())"
   ]
  },
  {
   "cell_type": "code",
   "execution_count": 16,
   "id": "0dcf7db0",
   "metadata": {},
   "outputs": [],
   "source": [
    "war = []"
   ]
  },
  {
   "cell_type": "code",
   "execution_count": 17,
   "id": "84b0d238",
   "metadata": {},
   "outputs": [
    {
     "name": "stdout",
     "output_type": "stream",
     "text": [
      "WBWWW\n",
      "WWWWW\n",
      "BBBBB\n",
      "BBBWW\n",
      "WWWWW\n"
     ]
    }
   ],
   "source": [
    "for i in range(m):\n",
    "    war.append(list(input()))"
   ]
  },
  {
   "cell_type": "code",
   "execution_count": 20,
   "id": "8b46609b",
   "metadata": {},
   "outputs": [],
   "source": [
    "power = [0, 0]"
   ]
  },
  {
   "cell_type": "code",
   "execution_count": 21,
   "id": "d31342cc",
   "metadata": {},
   "outputs": [],
   "source": [
    "visited = [[0]*(n) for i in range(5)]"
   ]
  },
  {
   "cell_type": "code",
   "execution_count": 22,
   "id": "54825c2d",
   "metadata": {},
   "outputs": [
    {
     "data": {
      "text/plain": [
       "[[0, 0, 0, 0, 0],\n",
       " [0, 0, 0, 0, 0],\n",
       " [0, 0, 0, 0, 0],\n",
       " [0, 0, 0, 0, 0],\n",
       " [0, 0, 0, 0, 0]]"
      ]
     },
     "execution_count": 22,
     "metadata": {},
     "output_type": "execute_result"
    }
   ],
   "source": [
    "visited # -> 모든 좌표에 대한 bfs를 실행하므로, visited 변수는 필요없이 좌표에 따른 war 컴포넌트값을 -1로 대체하면서 방문처리를 수행함."
   ]
  },
  {
   "cell_type": "code",
   "execution_count": 43,
   "id": "5a04134d",
   "metadata": {},
   "outputs": [
    {
     "ename": "SyntaxError",
     "evalue": "invalid syntax (2010899012.py, line 3)",
     "output_type": "error",
     "traceback": [
      "\u001b[0;36m  Cell \u001b[0;32mIn [43], line 3\u001b[0;36m\u001b[0m\n\u001b[0;31m    def bfs([x,y]):\u001b[0m\n\u001b[0m            ^\u001b[0m\n\u001b[0;31mSyntaxError\u001b[0m\u001b[0;31m:\u001b[0m invalid syntax\n"
     ]
    }
   ],
   "source": [
    "from collections import deque\n",
    "\n",
    "def bfs([x,y]):\n",
    "    queue =deque((x,y))\n",
    "    visited[x][y] = 1\n",
    "    \n",
    "    dx = [1,-1,0,0]\n",
    "    dy = [0,0,1,-1]\n",
    "    \n",
    "    cnt_1  = 0\n",
    "    \n",
    "    while queue:\n",
    "        \n",
    "        x,y = queue.popleft()\n",
    "        cnt_1 += 1\n",
    "        \n",
    "        for i in range(4):\n",
    "            nx = x + dx[i]\n",
    "            ny = y + dy[i]\n",
    "            \n",
    "            if 0<=nx<n and 0<=ny<m : \n",
    "                if war[nx][ny] == 'W' and visited[nx][ny] == 0 :## W,B를 나누는것이 아니고, 한번에 수행할 수 있도록 코드작성\n",
    "                    queue.append([(nx,ny)])\n",
    "                    \n",
    "    return cnt_1\n",
    "                "
   ]
  },
  {
   "cell_type": "code",
   "execution_count": null,
   "id": "202a91d0",
   "metadata": {},
   "outputs": [],
   "source": []
  },
  {
   "cell_type": "code",
   "execution_count": 45,
   "id": "9b2d1e80",
   "metadata": {},
   "outputs": [],
   "source": [
    "# 참고코드\n",
    "\n",
    "# 반복문을 통해 모든 좌표에 대해서 bfs()를 수행하면서, \n",
    "# squared 값을 return하면,\n",
    "# 기존에 power 리스트에 있는 값에 add 한다."
   ]
  },
  {
   "cell_type": "code",
   "execution_count": 71,
   "id": "3aaab848",
   "metadata": {
    "scrolled": true
   },
   "outputs": [
    {
     "name": "stdout",
     "output_type": "stream",
     "text": [
      "5 5\n",
      "WBWWW\n",
      "WWWWW\n",
      "BBBBB\n",
      "BBBWW\n",
      "WWWWW\n"
     ]
    }
   ],
   "source": [
    "from collections import deque\n",
    "\n",
    "n,m = map(int, input().split())\n",
    "\n",
    "war = []\n",
    "dx = [1,-1,0,0]\n",
    "dy = [0,0,1,-1]\n",
    "power  = [0 for _ in range(2)]\n",
    "\n",
    "for i in range(m):\n",
    "    war.append(list(input()))"
   ]
  },
  {
   "cell_type": "code",
   "execution_count": 77,
   "id": "25615009",
   "metadata": {},
   "outputs": [],
   "source": [
    "def bfs(x,y,a):\n",
    "    \n",
    "    queue = deque()\n",
    "    queue.append((x, y))\n",
    "    war[x][y] = -1\n",
    "    cnt = 1\n",
    "    \n",
    "    while queue:\n",
    "        x,y = queue.popleft()\n",
    "        for i in range(4):\n",
    "            nx = x + dx[i]\n",
    "            ny = y + dy[i]\n",
    "            \n",
    "            if (0<=nx<m and 0<=ny<n) and (war[nx][ny] == a):\n",
    "                war[nx][ny] = -1\n",
    "                queue.append((nx,ny))\n",
    "                cnt += 1\n",
    "                \n",
    "    return cnt * cnt "
   ]
  },
  {
   "cell_type": "code",
   "execution_count": 78,
   "id": "75e71b53",
   "metadata": {},
   "outputs": [],
   "source": [
    "for i in range(m):\n",
    "    for j in range(n):\n",
    "        if war[i][j] == \"W\":\n",
    "            power[0] += bfs(i, j, \"W\")\n",
    "        if war[i][j] == \"B\":\n",
    "            power[1] += bfs(i, j, \"B\")\n"
   ]
  },
  {
   "cell_type": "code",
   "execution_count": null,
   "id": "c834811a",
   "metadata": {},
   "outputs": [],
   "source": []
  }
 ],
 "metadata": {
  "kernelspec": {
   "display_name": "pytorhc",
   "language": "python",
   "name": "pytorch"
  },
  "language_info": {
   "codemirror_mode": {
    "name": "ipython",
    "version": 3
   },
   "file_extension": ".py",
   "mimetype": "text/x-python",
   "name": "python",
   "nbconvert_exporter": "python",
   "pygments_lexer": "ipython3",
   "version": "3.10.8"
  }
 },
 "nbformat": 4,
 "nbformat_minor": 5
}
